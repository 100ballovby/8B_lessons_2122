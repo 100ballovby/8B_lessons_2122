{
 "cells": [
  {
   "cell_type": "markdown",
   "metadata": {
    "collapsed": true,
    "pycharm": {
     "is_executing": true
    }
   },
   "source": [
    "## Функции\n",
    "\n",
    "<p>Функции - самостоятельный именованный блок кода.</p>"
   ]
  },
  {
   "cell_type": "code",
   "execution_count": 1,
   "metadata": {
    "pycharm": {
     "name": "#%%\n"
    }
   },
   "outputs": [],
   "source": [
    "def say_hello():\n",
    "    \"\"\"Приветствует пользователя\"\"\"\n",
    "    return 'Hello!'"
   ]
  },
  {
   "cell_type": "markdown",
   "metadata": {},
   "source": [
    "<p>Определение функции начинается с ключевого слова <code>def</code> - define - определить. После мы пишем имя функции и после символа <code>:</code> прописываем тело функции - команды, которые функция должна выполнять во время своей работы.</p>\n",
    "\n",
    "<p>Текст, который находится в <code>\"\"\" \"\"\"</code> называется <b>документ-строкой</b> и используется для пояснения работы функции.</p>\n",
    "\n",
    "<p>Если просто запустить файл с определением функции, ничего не произойдет. Чтобы функция работала, нужно вызвать ее по имени. Пока функцию не вызвали, ее даже не существует. Чтобы Python создал функцию, нужно написать ее имя и поставить круглые скобочки.</p>"
   ]
  },
  {
   "cell_type": "code",
   "execution_count": 2,
   "metadata": {},
   "outputs": [
    {
     "name": "stdout",
     "output_type": "stream",
     "text": [
      "Hello!\n",
      "H\n"
     ]
    }
   ],
   "source": [
    "greet = say_hello()\n",
    "print(greet)\n",
    "print(greet[0])"
   ]
  },
  {
   "cell_type": "markdown",
   "metadata": {},
   "source": [
    "<p>Результат работы функции (то, что возвращается через <code>return</code>) можно сохранить в переменную и в дальнейшем использовать этот объект в своих целях.</p>\n",
    "\n",
    "<p>Функцию можно вызвать, а можно вывести информацию о ней. Для вывода информации о функции нужно написать ее имя без круглых скобочек.</p>"
   ]
  },
  {
   "cell_type": "code",
   "execution_count": 4,
   "metadata": {},
   "outputs": [
    {
     "name": "stdout",
     "output_type": "stream",
     "text": [
      "<function say_hello at 0x7febd8a7d290>\n",
      "<function say_hello at 0x7febd8a7d290>\n",
      "<function say_hello at 0x7febd8a7d290>\n"
     ]
    }
   ],
   "source": [
    "print(say_hello)\n",
    "print(say_hello)\n",
    "print(say_hello)"
   ]
  },
  {
   "cell_type": "markdown",
   "metadata": {},
   "source": [
    "<p><code>0x7febd8a7d290</code> - адрес ячейки памяти, в которой создалась функция. Обратите внимание на то, что функция не создает клоны. При многократном вызове функции она остается в той же ячейке памяти, в которой была создана.</p>\n",
    "\n",
    "## Аргументы и параметры \n",
    "\n",
    "<p>Функции могут получать данные и работать с ними. Такие данные называются <b>параметрами</b> и <b>аргументами</b> функций.</p>\n",
    "\n",
    "<p><b>Параметры</b> - условные данные, необходимые функции для работы. Вводятся при определении функции.</p>\n",
    "\n",
    "<p><b>Аргумент</b> - это фактические значения, передаваемые функции <b>В МОМЕНТ ЕЕ ВЫЗОВА</b>.</p>\n",
    "\n",
    "<p>Чтобы научить функцию получать данные, нужно указать параметры в скобках при определении функции.</p>"
   ]
  },
  {
   "cell_type": "code",
   "execution_count": 5,
   "metadata": {},
   "outputs": [],
   "source": [
    "def say_hello(name):\n",
    "    \"\"\"\n",
    "    Приветствует пользователя\n",
    "    :param name: имя пользователя\n",
    "    :return: строку с приветствием\n",
    "    \"\"\"\n",
    "    msg = f'Hello, {name}!'\n",
    "    return msg"
   ]
  },
  {
   "cell_type": "markdown",
   "metadata": {},
   "source": [
    "<p>Внутри функции определяется переменная, в которой я храню приветствие пользователя и возвращаю эту переменную как результат работы функции.</p>\n",
    "\n",
    "<p>Теперь, передавая аргумент при вызове функции, я буду получать разные результаты.</p>"
   ]
  },
  {
   "cell_type": "code",
   "execution_count": 6,
   "metadata": {},
   "outputs": [
    {
     "name": "stdout",
     "output_type": "stream",
     "text": [
      "Hello, Julia!\n",
      "Hello, John!\n",
      "Hello, Zakhar!\n",
      "Hello, Andrew!\n",
      "Hello, Arkadiy!\n"
     ]
    }
   ],
   "source": [
    "users = ['Julia', 'John', 'Zakhar', 'Andrew', 'Arkadiy']\n",
    "\n",
    "for user in users:\n",
    "    print(say_hello(user))"
   ]
  },
  {
   "cell_type": "markdown",
   "metadata": {},
   "source": [
    "## Виды аргументов\n",
    "\n",
    "<p>Аргументы делятся на 3 группы:</p>\n",
    "<ul>\n",
    "    <li>Позиционные;</li>\n",
    "    <li>Поименные;</li>\n",
    "    <li>По умолчанию.</li>\n",
    "</ul>\n",
    "\n",
    "### Позиционные аргументы\n",
    "\n",
    "<p>При вызове функции каждый аргумент должен быть передан в том же порядке, в котором опделены параметры функции.</p>"
   ]
  },
  {
   "cell_type": "code",
   "execution_count": 8,
   "metadata": {},
   "outputs": [
    {
     "name": "stdout",
     "output_type": "stream",
     "text": [
      "32\n",
      "25\n"
     ]
    }
   ],
   "source": [
    "def power(num, p):\n",
    "    res = 1\n",
    "    for i in range(p):\n",
    "        res *= num\n",
    "    return res\n",
    "\n",
    "print(power(2, 5))\n",
    "print(power(5, 2))"
   ]
  },
  {
   "cell_type": "markdown",
   "metadata": {},
   "source": [
    "<p>При передаче аргументов важно следить за порядком следования параметров. Иначе можно <b>!в лучшем случае!</b> получить не тот результат или в принципе сломать работу функции.</p>\n",
    "\n",
    "### Поименные аргументы\n",
    "\n",
    "<p>При вызове функции можно указывать имена параметров, а затем указывать фактические значения. В таком случае требование к позиционности аргументов отпадает.</p>"
   ]
  },
  {
   "cell_type": "code",
   "execution_count": 9,
   "metadata": {},
   "outputs": [
    {
     "name": "stdout",
     "output_type": "stream",
     "text": [
      "32\n"
     ]
    }
   ],
   "source": [
    "print(power(p=5, num=2))"
   ]
  },
  {
   "cell_type": "markdown",
   "metadata": {},
   "source": [
    "### Аргументы по умолчанию\n",
    "\n",
    "<p>Аргумент по умолчанию задается в том случае, когда его необязательно передавать. Значение аргумента должно указываться при определении функции. В дальнейшем вы можете изменить значение во время вызова функции.</p>\n",
    "\n",
    "<p style=\"text-transform: uppercase;\"><b>Аргументы по умолчанию прописываются в самом конце после всех позиционных</b></p>"
   ]
  },
  {
   "cell_type": "code",
   "execution_count": 10,
   "metadata": {},
   "outputs": [
    {
     "name": "stdout",
     "output_type": "stream",
     "text": [
      "16\n",
      "64\n"
     ]
    }
   ],
   "source": [
    "def power(num, p=2):\n",
    "    res = 1\n",
    "    for i in range(p):\n",
    "        res *= num\n",
    "    return res\n",
    "\n",
    "print(power(4))\n",
    "print(power(4, 3))"
   ]
  },
  {
   "cell_type": "code",
   "execution_count": 13,
   "metadata": {},
   "outputs": [
    {
     "name": "stdout",
     "output_type": "stream",
     "text": [
      "4\n",
      "3.56\n"
     ]
    }
   ],
   "source": [
    "print(round(3.563673))\n",
    "print(round(3.563673, 2))"
   ]
  },
  {
   "cell_type": "code",
   "execution_count": null,
   "metadata": {},
   "outputs": [],
   "source": []
  }
 ],
 "metadata": {
  "kernelspec": {
   "display_name": "Python 3 (ipykernel)",
   "language": "python",
   "name": "python3"
  },
  "language_info": {
   "codemirror_mode": {
    "name": "ipython",
    "version": 3
   },
   "file_extension": ".py",
   "mimetype": "text/x-python",
   "name": "python",
   "nbconvert_exporter": "python",
   "pygments_lexer": "ipython3",
   "version": "3.7.7"
  }
 },
 "nbformat": 4,
 "nbformat_minor": 1
}