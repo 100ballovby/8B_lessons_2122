{
 "cells": [
  {
   "cell_type": "markdown",
   "metadata": {
    "collapsed": true,
    "pycharm": {
     "is_executing": true
    }
   },
   "source": [
    "# Декораторы. Понять и полюбить.\n",
    "\n",
    "<p>Перед тем, как перейти к декораторам, нужно разобраться чуть подробнее с функциями.</p>\n",
    "\n",
    "## Возвращение функции из функции\n",
    "\n",
    "<p>С помощью инструкции <code>return</code> вы можете возвращать не только фактическое значение-результат работа функции, но и функции целиком.</p>"
   ]
  },
  {
   "cell_type": "code",
   "execution_count": 1,
   "metadata": {
    "pycharm": {
     "name": "#%%\n"
    }
   },
   "outputs": [
    {
     "name": "stdout",
     "output_type": "stream",
     "text": [
      "<function parent.<locals>.first_child at 0x7fdfa195c320>\n"
     ]
    }
   ],
   "source": [
    "def parent(num):\n",
    "    def first_child():\n",
    "        return 'Hello! I am Roma!'\n",
    "    \n",
    "    def second_child():\n",
    "        return 'Call me Yan!'\n",
    "    \n",
    "    if num == 1:\n",
    "        return first_child\n",
    "    else:\n",
    "        return second_child\n",
    "    \n",
    "print(parent(1))"
   ]
  },
  {
   "cell_type": "markdown",
   "metadata": {},
   "source": [
    "<p>Python позволяет использовать функции в качестве возвращаемых значений.</p>\n",
    "\n",
    "<p>Обратите внимание, что при запуске кода выше, я не получаю строк, которые возвращают функции-наследники. Вместо этого вы получаете техническую информацию о том, где создалась функция и как называется ее родитель. Происходит это по той причине, что я возвращаю функцию без круглых скобок. <b>Дело в том, что при вызове функции без <code>()</code>, вы на самом деле передаете ссылку на функцию, но никак не вызов функции.</b></p>\n",
    "\n",
    "<p>Но это поведение можно изменить, ели сохранить результат работы функции в переменных и затем вызывать эти переменные как функции (добавить в конце скобки).</p>"
   ]
  },
  {
   "cell_type": "code",
   "execution_count": 2,
   "metadata": {},
   "outputs": [
    {
     "name": "stdout",
     "output_type": "stream",
     "text": [
      "Hello! I am Roma!\n",
      "Call me Yan!\n"
     ]
    }
   ],
   "source": [
    "first = parent(1)\n",
    "second = parent(2)\n",
    "\n",
    "print(first())\n",
    "print(second())"
   ]
  },
  {
   "cell_type": "markdown",
   "metadata": {},
   "source": [
    "<p>Внутри переменных <code>first</code> и <code>second</code> лежат ссылки на функции <code>first_child</code> и <code>second_child</code>, а это означает, что я могу теперь обращаться к этим переменным, как к функциям. То есть я могу вызвать функцию, обратившись к ней по ссылке.</p>\n",
    "\n",
    "## Простые декораторы\n",
    "\n",
    "<p>Рассмотрим простой пример декоратора:</p>"
   ]
  },
  {
   "cell_type": "code",
   "execution_count": 3,
   "metadata": {},
   "outputs": [
    {
     "name": "stdout",
     "output_type": "stream",
     "text": [
      "Что-то происходит до вызова функции\n",
      "whee!\n",
      "Что-то происходит поосле вызова функции\n"
     ]
    }
   ],
   "source": [
    "def my_decorator(func):\n",
    "    def wrapper():\n",
    "        print('Что-то происходит до вызова функции')\n",
    "        func()\n",
    "        print('Что-то происходит поосле вызова функции')\n",
    "    return wrapper \n",
    "\n",
    "\n",
    "@my_decorator\n",
    "def say_whee():\n",
    "    print('whee!')\n",
    "    \n",
    "\n",
    "say_whee()"
   ]
  },
  {
   "cell_type": "markdown",
   "metadata": {},
   "source": [
    "<p><b>Декоратор</b> - это функция, которая может получать в себя другую функцию, изменять ее поведение, \"навешивая\" дополнительные действия и возвращающая ее.</p>\n",
    "\n",
    "<p>Декораторы оборачивают функцию своими действиями, изменяя/дополняя ее поведение.</p>\n",
    "\n",
    "## Пример использования декоратора\n",
    "\n",
    "<p>Напишем функцию, которая просто будет наполнять список числами и напишем декоратор, который будет измерять время исполнения какой-то функции.</p>"
   ]
  },
  {
   "cell_type": "code",
   "execution_count": 9,
   "metadata": {},
   "outputs": [
    {
     "name": "stdout",
     "output_type": "stream",
     "text": [
      "Функция waste_some_time закончила работу за 7.3407 сек.\n"
     ]
    }
   ],
   "source": [
    "import time \n",
    "\n",
    "\n",
    "def timer(func):\n",
    "    \"\"\"Печатает время исполнения декорируемой функции\"\"\"\n",
    "    def wrapper_timer(*args):\n",
    "        start = time.perf_counter()  # фиксирую время начала работы функции \n",
    "        res = func(*args)\n",
    "        finish = time.perf_counter()  # фиксирую время окоончания работы функции \n",
    "        run_time = finish - start # считаю разницу во времени \n",
    "        \n",
    "        print(f'Функция {func.__name__} закончила работу за {run_time:.4f} сек.')\n",
    "        return res\n",
    "    return wrapper_timer\n",
    "\n",
    "\n",
    "@timer\n",
    "def waste_some_time(num_times):\n",
    "    l = []\n",
    "    s = 0\n",
    "    for _ in range(num_times):\n",
    "        for i in range(100000):\n",
    "            l.append(i)\n",
    "        s = sum(l)\n",
    "        \n",
    "\n",
    "waste_some_time(100)"
   ]
  },
  {
   "cell_type": "code",
   "execution_count": null,
   "metadata": {},
   "outputs": [],
   "source": []
  }
 ],
 "metadata": {
  "kernelspec": {
   "display_name": "Python 3 (ipykernel)",
   "language": "python",
   "name": "python3"
  },
  "language_info": {
   "codemirror_mode": {
    "name": "ipython",
    "version": 3
   },
   "file_extension": ".py",
   "mimetype": "text/x-python",
   "name": "python",
   "nbconvert_exporter": "python",
   "pygments_lexer": "ipython3",
   "version": "3.7.7"
  }
 },
 "nbformat": 4,
 "nbformat_minor": 1
}